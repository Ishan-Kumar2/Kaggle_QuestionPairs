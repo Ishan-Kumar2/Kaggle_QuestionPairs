{
  "nbformat": 4,
  "nbformat_minor": 0,
  "metadata": {
    "colab": {
      "name": "GloVe.ipynb",
      "provenance": [],
      "machine_shape": "hm"
    },
    "kernelspec": {
      "name": "python3",
      "display_name": "Python 3"
    },
    "accelerator": "GPU"
  },
  "cells": [
    {
      "cell_type": "code",
      "metadata": {
        "id": "LvpRdR5RrXD8",
        "colab_type": "code",
        "outputId": "23157fc3-4529-49b3-e4f1-8ed619c63219",
        "colab": {
          "base_uri": "https://localhost:8080/",
          "height": 142
        }
      },
      "source": [
        "from google.colab import drive\n",
        "drive.mount('/content/drive')"
      ],
      "execution_count": 1,
      "outputs": [
        {
          "output_type": "stream",
          "text": [
            "Go to this URL in a browser: https://accounts.google.com/o/oauth2/auth?client_id=947318989803-6bn6qk8qdgf4n4g3pfee6491hc0brc4i.apps.googleusercontent.com&redirect_uri=urn%3aietf%3awg%3aoauth%3a2.0%3aoob&response_type=code&scope=email%20https%3a%2f%2fwww.googleapis.com%2fauth%2fdocs.test%20https%3a%2f%2fwww.googleapis.com%2fauth%2fdrive%20https%3a%2f%2fwww.googleapis.com%2fauth%2fdrive.photos.readonly%20https%3a%2f%2fwww.googleapis.com%2fauth%2fpeopleapi.readonly\n",
            "\n",
            "Enter your authorization code:\n",
            "··········\n",
            "Mounted at /content/drive\n"
          ],
          "name": "stdout"
        }
      ]
    },
    {
      "cell_type": "code",
      "metadata": {
        "id": "3sWTzDnbrcUN",
        "colab_type": "code",
        "colab": {}
      },
      "source": [
        "import os\n",
        "root=os.path.join('/content','drive','My Drive','Colab Notebooks','kaggle_Quora')"
      ],
      "execution_count": 0,
      "outputs": []
    },
    {
      "cell_type": "code",
      "metadata": {
        "id": "Yob9MeI2rcYI",
        "colab_type": "code",
        "outputId": "6fc62679-41de-4d95-8998-af68aae22c66",
        "colab": {
          "base_uri": "https://localhost:8080/",
          "height": 79
        }
      },
      "source": [
        "import pandas as pd\n",
        "train=pd.read_csv(os.path.join(root,'train.csv'))\n",
        "test1=pd.read_csv(os.path.join(root,'test.csv'))\n",
        "test2=pd.read_csv(os.path.join(root,'test (1).csv'))\n"
      ],
      "execution_count": 3,
      "outputs": [
        {
          "output_type": "stream",
          "text": [
            "/usr/local/lib/python3.6/dist-packages/IPython/core/interactiveshell.py:2718: DtypeWarning: Columns (0) have mixed types. Specify dtype option on import or set low_memory=False.\n",
            "  interactivity=interactivity, compiler=compiler, result=result)\n"
          ],
          "name": "stderr"
        }
      ]
    },
    {
      "cell_type": "code",
      "metadata": {
        "id": "CUgwHcZvrccH",
        "colab_type": "code",
        "colab": {}
      },
      "source": [
        "q1=list(train['question1'])\n",
        "q2=list(train['question2'])\n",
        "\n",
        "test_q1=list(test1['question1'])\n",
        "test_q2=list(test1['question2'])"
      ],
      "execution_count": 0,
      "outputs": []
    },
    {
      "cell_type": "code",
      "metadata": {
        "id": "PTVdAz5Grch8",
        "colab_type": "code",
        "outputId": "5d654c7d-9ef8-453d-d0a7-8e94decd0e56",
        "colab": {
          "base_uri": "https://localhost:8080/",
          "height": 80
        }
      },
      "source": [
        "import nltk\n",
        "nltk.download('stopwords')"
      ],
      "execution_count": 5,
      "outputs": [
        {
          "output_type": "stream",
          "text": [
            "[nltk_data] Downloading package stopwords to /root/nltk_data...\n",
            "[nltk_data]   Unzipping corpora/stopwords.zip.\n"
          ],
          "name": "stdout"
        },
        {
          "output_type": "execute_result",
          "data": {
            "text/plain": [
              "True"
            ]
          },
          "metadata": {
            "tags": []
          },
          "execution_count": 5
        }
      ]
    },
    {
      "cell_type": "code",
      "metadata": {
        "id": "7XgCbkzDrcfU",
        "colab_type": "code",
        "outputId": "c49bf65e-e2ae-4f3c-97c4-12e0ba3a9ace",
        "colab": {
          "base_uri": "https://localhost:8080/",
          "height": 58
        }
      },
      "source": [
        "import re\n",
        "import string\n",
        "from nltk.corpus import stopwords\n",
        "stop = set(stopwords.words('english'))\n",
        "\n",
        "q1_without_stop=[]\n",
        "table = str.maketrans('', '', string.punctuation)\n",
        "\n",
        "i=0\n",
        "q1=q1[:105779]\n",
        "for qw in q1:\n",
        "  ##print(qw)\n",
        "  words=qw.split()\n",
        "  \n",
        "  stripped=[w.translate(table) for w in words]\n",
        "  new_line=[]\n",
        "  \n",
        "  for word in stripped:\n",
        "    if word not in stop:\n",
        "      word=word.lower()\n",
        "      new_line.append(word)\n",
        "\n",
        "  q1_without_stop.append(new_line)\n",
        "  \n",
        "print(q1_without_stop[0:5])"
      ],
      "execution_count": 6,
      "outputs": [
        {
          "output_type": "stream",
          "text": [
            "[['what', 'step', 'step', 'guide', 'invest', 'share', 'market', 'india'], ['what', 'story', 'kohinoor', 'kohinoor', 'diamond'], ['how', 'i', 'increase', 'speed', 'internet', 'connection', 'using', 'vpn'], ['why', 'i', 'mentally', 'lonely', 'how', 'i', 'solve'], ['which', 'one', 'dissolve', 'water', 'quikly', 'sugar', 'salt', 'methane', 'carbon', 'di', 'oxide']]\n"
          ],
          "name": "stdout"
        }
      ]
    },
    {
      "cell_type": "code",
      "metadata": {
        "id": "eYPzSCIXF06E",
        "colab_type": "code",
        "outputId": "52f3d541-1319-4d34-f54d-4dd5479c965d",
        "colab": {
          "base_uri": "https://localhost:8080/",
          "height": 58
        }
      },
      "source": [
        "import re\n",
        "import string\n",
        "from nltk.corpus import stopwords\n",
        "stop = set(stopwords.words('english'))\n",
        "\n",
        "q2_without_stop=[]\n",
        "table = str.maketrans('', '', string.punctuation)\n",
        "q2=q2[:105779]\n",
        "i=0\n",
        "\n",
        "for qw in q2:\n",
        "  ##print(qw)\n",
        "  words=qw.split()\n",
        "  \n",
        "  stripped=[w.translate(table) for w in words]\n",
        "  new_line=[]\n",
        "  \n",
        "  for word in stripped:\n",
        "    if word not in stop:\n",
        "      word=word.lower()\n",
        "      new_line.append(word)\n",
        "  \n",
        "  q2_without_stop.append(new_line)\n",
        "\n",
        "print(q2_without_stop[0:5])"
      ],
      "execution_count": 7,
      "outputs": [
        {
          "output_type": "stream",
          "text": [
            "[['what', 'step', 'step', 'guide', 'invest', 'share', 'market'], ['what', 'would', 'happen', 'indian', 'government', 'stole', 'kohinoor', 'kohinoor', 'diamond', 'back'], ['how', 'internet', 'speed', 'increased', 'hacking', 'dns'], ['find', 'remainder', 'math2324math', 'divided', '2423'], ['which', 'fish', 'would', 'survive', 'salt', 'water']]\n"
          ],
          "name": "stdout"
        }
      ]
    },
    {
      "cell_type": "code",
      "metadata": {
        "id": "BgaUokDGrckH",
        "colab_type": "code",
        "outputId": "695ef5e1-5623-4ef8-ff4a-731fdf85de2c",
        "colab": {
          "base_uri": "https://localhost:8080/",
          "height": 113
        }
      },
      "source": [
        "from keras.preprocessing.text import Tokenizer \n",
        "from keras.preprocessing.sequence import pad_sequences\n",
        "from keras.utils import to_categorical\n",
        "\n",
        "MAX_NUM_WORDS=5000\n",
        "MAX_SEQUENCE_LENGTH=200\n",
        "\n",
        "tokenizer=Tokenizer(num_words=MAX_NUM_WORDS)\n",
        "tokenizer.fit_on_texts(q1_without_stop)\n",
        "word_index=tokenizer.word_index\n",
        "\n",
        "seq=tokenizer.texts_to_sequences(q1_without_stop)\n",
        "print(f'Number of uniques words {len(word_index)}')\n",
        "\n",
        "\n",
        "data=pad_sequences(seq,maxlen=MAX_SEQUENCE_LENGTH)"
      ],
      "execution_count": 8,
      "outputs": [
        {
          "output_type": "stream",
          "text": [
            "Using TensorFlow backend.\n"
          ],
          "name": "stderr"
        },
        {
          "output_type": "display_data",
          "data": {
            "text/html": [
              "<p style=\"color: red;\">\n",
              "The default version of TensorFlow in Colab will soon switch to TensorFlow 2.x.<br>\n",
              "We recommend you <a href=\"https://www.tensorflow.org/guide/migrate\" target=\"_blank\">upgrade</a> now \n",
              "or ensure your notebook will continue to use TensorFlow 1.x via the <code>%tensorflow_version 1.x</code> magic:\n",
              "<a href=\"https://colab.research.google.com/notebooks/tensorflow_version.ipynb\" target=\"_blank\">more info</a>.</p>\n"
            ],
            "text/plain": [
              "<IPython.core.display.HTML object>"
            ]
          },
          "metadata": {
            "tags": []
          }
        },
        {
          "output_type": "stream",
          "text": [
            "Number of uniques words 42480\n"
          ],
          "name": "stdout"
        }
      ]
    },
    {
      "cell_type": "code",
      "metadata": {
        "id": "oomTqp91rcm-",
        "colab_type": "code",
        "colab": {}
      },
      "source": [
        "import numpy as np"
      ],
      "execution_count": 0,
      "outputs": []
    },
    {
      "cell_type": "code",
      "metadata": {
        "id": "X3mkJMQhwTMF",
        "colab_type": "code",
        "outputId": "b4d711e0-068c-4842-c49a-373361faa647",
        "colab": {
          "base_uri": "https://localhost:8080/",
          "height": 38
        }
      },
      "source": [
        "embeddings_index = {}\n",
        "f = open('/content/drive/My Drive/Colab Notebooks/Glove/glove.840B.300d.txt')\n",
        "for line in f:\n",
        "    values = line.split(' ')\n",
        "    word = values[0] ## The first entry is the word\n",
        "    coefs = np.asarray(values[1:], dtype='float32') ## These are the vecotrs representing the embedding for the word\n",
        "    embeddings_index[word] = coefs\n",
        "f.close()\n",
        "\n",
        "print('GloVe data loaded')"
      ],
      "execution_count": 10,
      "outputs": [
        {
          "output_type": "stream",
          "text": [
            "GloVe data loaded\n"
          ],
          "name": "stdout"
        }
      ]
    },
    {
      "cell_type": "code",
      "metadata": {
        "id": "SXkjSLfC5vue",
        "colab_type": "code",
        "outputId": "c1b277f3-3c55-452e-a13b-f5e54b29e03a",
        "colab": {
          "base_uri": "https://localhost:8080/",
          "height": 38
        }
      },
      "source": [
        "print(embeddings_index.get('a').shape[0])"
      ],
      "execution_count": 11,
      "outputs": [
        {
          "output_type": "stream",
          "text": [
            "300\n"
          ],
          "name": "stdout"
        }
      ]
    },
    {
      "cell_type": "code",
      "metadata": {
        "id": "_uJNWsTJwTH5",
        "colab_type": "code",
        "colab": {
          "base_uri": "https://localhost:8080/",
          "height": 79
        },
        "outputId": "6844a0f5-19ab-4c10-9ce1-3effaed62d3d"
      },
      "source": [
        "from keras.layers import Embedding\n",
        "\n",
        "from keras.initializers import Constant\n",
        "\n",
        "EMBEDDING_DIM=embeddings_index.get('a').shape[0]\n",
        "num_words=min(MAX_NUM_WORDS,len(word_index))+1\n",
        "embedding_matrix=np.zeros((num_words,EMBEDDING_DIM))\n",
        "\n",
        "for word, i in word_index.items():\n",
        "  if i>MAX_NUM_WORDS:\n",
        "    continue\n",
        "  embedding_vector=embeddings_index.get(word)\n",
        "\n",
        "  if embedding_vector is not None:\n",
        "    embedding_matrix[i]=embedding_vector\n",
        "\n",
        "  \n",
        "embedding_layer=Embedding(num_words, EMBEDDING_DIM,embeddings_initializer=Constant(embedding_matrix),input_length=MAX_SEQUENCE_LENGTH,trainable=False)\n"
      ],
      "execution_count": 12,
      "outputs": [
        {
          "output_type": "stream",
          "text": [
            "WARNING:tensorflow:From /usr/local/lib/python3.6/dist-packages/keras/backend/tensorflow_backend.py:66: The name tf.get_default_graph is deprecated. Please use tf.compat.v1.get_default_graph instead.\n",
            "\n"
          ],
          "name": "stdout"
        }
      ]
    },
    {
      "cell_type": "code",
      "metadata": {
        "id": "T3mNWDDI-4Zq",
        "colab_type": "code",
        "colab": {}
      },
      "source": [
        "embeddings_index.get('apple')"
      ],
      "execution_count": 0,
      "outputs": []
    },
    {
      "cell_type": "code",
      "metadata": {
        "id": "kPLpRq_dBBTj",
        "colab_type": "code",
        "colab": {}
      },
      "source": [
        "embedded_q1=[]\n",
        "for sent in q1_without_stop:\n",
        "  emb_sen=[]\n",
        "  for word in sent:\n",
        "    emb_sen.append(embeddings_index.get('word'))\n",
        "\n",
        "  embedded_q1.append(emb_sen)\n",
        "  "
      ],
      "execution_count": 0,
      "outputs": []
    },
    {
      "cell_type": "code",
      "metadata": {
        "id": "FdEwvsDGCDu5",
        "colab_type": "code",
        "colab": {}
      },
      "source": [
        "embedded_q2=[]\n",
        "for sent in q2_without_stop:\n",
        "  emb_sen=[]\n",
        "  for word in sent:\n",
        "    emb_sen.append(embeddings_index.get('word'))\n",
        "\n",
        "  embedded_q2.append(emb_sen)\n",
        "  "
      ],
      "execution_count": 0,
      "outputs": []
    },
    {
      "cell_type": "code",
      "metadata": {
        "id": "z9jRJ_BQDqip",
        "colab_type": "code",
        "colab": {}
      },
      "source": [
        "len(embedded_q1),len(embedded_q2[0])\n",
        "\n",
        "qs=np.array(embedded_q1[0])"
      ],
      "execution_count": 0,
      "outputs": []
    },
    {
      "cell_type": "code",
      "metadata": {
        "id": "csr3TZ4pDqhA",
        "colab_type": "code",
        "colab": {}
      },
      "source": [
        "dif=[]\n",
        "for i in range(105779):\n",
        "  q1_1=np.array(embedded_q1[i])\n",
        "  q2_1=np.array(embedded_q2[i])\n",
        "  \n",
        "  word_len_max=max(q1_1.shape[0],q2_1.shape[0])\n",
        "  q1_2=np.zeros((word_len_max,300))\n",
        "  q2_2=np.zeros((word_len_max,300))\n",
        "  \n",
        "  q1_2[:q1_1.shape[0],:q1_1.shape[1]] = q1_1\n",
        "\n",
        "  q2_2[:q2_1.shape[0],:q2_1.shape[1]] = q2_1\n",
        "  \n",
        "  dif.append(np.mean(q1_2-q2_2))"
      ],
      "execution_count": 0,
      "outputs": []
    },
    {
      "cell_type": "code",
      "metadata": {
        "id": "yz9aNw0LFSMT",
        "colab_type": "code",
        "outputId": "9541366c-fef5-461d-d808-42516a8c0197",
        "colab": {
          "base_uri": "https://localhost:8080/",
          "height": 38
        }
      },
      "source": [
        "len(dif)"
      ],
      "execution_count": 18,
      "outputs": [
        {
          "output_type": "execute_result",
          "data": {
            "text/plain": [
              "105779"
            ]
          },
          "metadata": {
            "tags": []
          },
          "execution_count": 18
        }
      ]
    },
    {
      "cell_type": "code",
      "metadata": {
        "id": "gs9j61lYFSJp",
        "colab_type": "code",
        "outputId": "262a4422-d841-4c00-ec0e-15de4443423b",
        "colab": {
          "base_uri": "https://localhost:8080/",
          "height": 240
        }
      },
      "source": [
        "train.head()"
      ],
      "execution_count": 19,
      "outputs": [
        {
          "output_type": "execute_result",
          "data": {
            "text/html": [
              "<div>\n",
              "<style scoped>\n",
              "    .dataframe tbody tr th:only-of-type {\n",
              "        vertical-align: middle;\n",
              "    }\n",
              "\n",
              "    .dataframe tbody tr th {\n",
              "        vertical-align: top;\n",
              "    }\n",
              "\n",
              "    .dataframe thead th {\n",
              "        text-align: right;\n",
              "    }\n",
              "</style>\n",
              "<table border=\"1\" class=\"dataframe\">\n",
              "  <thead>\n",
              "    <tr style=\"text-align: right;\">\n",
              "      <th></th>\n",
              "      <th>id</th>\n",
              "      <th>qid1</th>\n",
              "      <th>qid2</th>\n",
              "      <th>question1</th>\n",
              "      <th>question2</th>\n",
              "      <th>is_duplicate</th>\n",
              "    </tr>\n",
              "  </thead>\n",
              "  <tbody>\n",
              "    <tr>\n",
              "      <th>0</th>\n",
              "      <td>0</td>\n",
              "      <td>1</td>\n",
              "      <td>2</td>\n",
              "      <td>What is the step by step guide to invest in sh...</td>\n",
              "      <td>What is the step by step guide to invest in sh...</td>\n",
              "      <td>0</td>\n",
              "    </tr>\n",
              "    <tr>\n",
              "      <th>1</th>\n",
              "      <td>1</td>\n",
              "      <td>3</td>\n",
              "      <td>4</td>\n",
              "      <td>What is the story of Kohinoor (Koh-i-Noor) Dia...</td>\n",
              "      <td>What would happen if the Indian government sto...</td>\n",
              "      <td>0</td>\n",
              "    </tr>\n",
              "    <tr>\n",
              "      <th>2</th>\n",
              "      <td>2</td>\n",
              "      <td>5</td>\n",
              "      <td>6</td>\n",
              "      <td>How can I increase the speed of my internet co...</td>\n",
              "      <td>How can Internet speed be increased by hacking...</td>\n",
              "      <td>0</td>\n",
              "    </tr>\n",
              "    <tr>\n",
              "      <th>3</th>\n",
              "      <td>3</td>\n",
              "      <td>7</td>\n",
              "      <td>8</td>\n",
              "      <td>Why am I mentally very lonely? How can I solve...</td>\n",
              "      <td>Find the remainder when [math]23^{24}[/math] i...</td>\n",
              "      <td>0</td>\n",
              "    </tr>\n",
              "    <tr>\n",
              "      <th>4</th>\n",
              "      <td>4</td>\n",
              "      <td>9</td>\n",
              "      <td>10</td>\n",
              "      <td>Which one dissolve in water quikly sugar, salt...</td>\n",
              "      <td>Which fish would survive in salt water?</td>\n",
              "      <td>0</td>\n",
              "    </tr>\n",
              "  </tbody>\n",
              "</table>\n",
              "</div>"
            ],
            "text/plain": [
              "   id  qid1  ...                                          question2 is_duplicate\n",
              "0   0     1  ...  What is the step by step guide to invest in sh...            0\n",
              "1   1     3  ...  What would happen if the Indian government sto...            0\n",
              "2   2     5  ...  How can Internet speed be increased by hacking...            0\n",
              "3   3     7  ...  Find the remainder when [math]23^{24}[/math] i...            0\n",
              "4   4     9  ...            Which fish would survive in salt water?            0\n",
              "\n",
              "[5 rows x 6 columns]"
            ]
          },
          "metadata": {
            "tags": []
          },
          "execution_count": 19
        }
      ]
    },
    {
      "cell_type": "code",
      "metadata": {
        "id": "ht71GIm-K8OP",
        "colab_type": "code",
        "colab": {}
      },
      "source": [
        "train_diff=pd.concat((pd.Series(dif),train['is_duplicate'][:105779]),axis=1)"
      ],
      "execution_count": 0,
      "outputs": []
    },
    {
      "cell_type": "code",
      "metadata": {
        "id": "2L-isgCoMJ0j",
        "colab_type": "code",
        "outputId": "c76dbf71-95de-4dd1-ab05-59c1ee534120",
        "colab": {
          "base_uri": "https://localhost:8080/",
          "height": 495
        }
      },
      "source": [
        "train_diff"
      ],
      "execution_count": 21,
      "outputs": [
        {
          "output_type": "execute_result",
          "data": {
            "text/html": [
              "<div>\n",
              "<style scoped>\n",
              "    .dataframe tbody tr th:only-of-type {\n",
              "        vertical-align: middle;\n",
              "    }\n",
              "\n",
              "    .dataframe tbody tr th {\n",
              "        vertical-align: top;\n",
              "    }\n",
              "\n",
              "    .dataframe thead th {\n",
              "        text-align: right;\n",
              "    }\n",
              "</style>\n",
              "<table border=\"1\" class=\"dataframe\">\n",
              "  <thead>\n",
              "    <tr style=\"text-align: right;\">\n",
              "      <th></th>\n",
              "      <th>0</th>\n",
              "      <th>is_duplicate</th>\n",
              "    </tr>\n",
              "  </thead>\n",
              "  <tbody>\n",
              "    <tr>\n",
              "      <th>0</th>\n",
              "      <td>-0.001004</td>\n",
              "      <td>0</td>\n",
              "    </tr>\n",
              "    <tr>\n",
              "      <th>1</th>\n",
              "      <td>0.004016</td>\n",
              "      <td>0</td>\n",
              "    </tr>\n",
              "    <tr>\n",
              "      <th>2</th>\n",
              "      <td>-0.002008</td>\n",
              "      <td>0</td>\n",
              "    </tr>\n",
              "    <tr>\n",
              "      <th>3</th>\n",
              "      <td>-0.002295</td>\n",
              "      <td>0</td>\n",
              "    </tr>\n",
              "    <tr>\n",
              "      <th>4</th>\n",
              "      <td>-0.003651</td>\n",
              "      <td>0</td>\n",
              "    </tr>\n",
              "    <tr>\n",
              "      <th>...</th>\n",
              "      <td>...</td>\n",
              "      <td>...</td>\n",
              "    </tr>\n",
              "    <tr>\n",
              "      <th>105774</th>\n",
              "      <td>-0.001606</td>\n",
              "      <td>1</td>\n",
              "    </tr>\n",
              "    <tr>\n",
              "      <th>105775</th>\n",
              "      <td>0.004016</td>\n",
              "      <td>1</td>\n",
              "    </tr>\n",
              "    <tr>\n",
              "      <th>105776</th>\n",
              "      <td>0.000000</td>\n",
              "      <td>1</td>\n",
              "    </tr>\n",
              "    <tr>\n",
              "      <th>105777</th>\n",
              "      <td>0.001606</td>\n",
              "      <td>1</td>\n",
              "    </tr>\n",
              "    <tr>\n",
              "      <th>105778</th>\n",
              "      <td>-0.002677</td>\n",
              "      <td>0</td>\n",
              "    </tr>\n",
              "  </tbody>\n",
              "</table>\n",
              "<p>105779 rows × 2 columns</p>\n",
              "</div>"
            ],
            "text/plain": [
              "               0  is_duplicate\n",
              "0      -0.001004             0\n",
              "1       0.004016             0\n",
              "2      -0.002008             0\n",
              "3      -0.002295             0\n",
              "4      -0.003651             0\n",
              "...          ...           ...\n",
              "105774 -0.001606             1\n",
              "105775  0.004016             1\n",
              "105776  0.000000             1\n",
              "105777  0.001606             1\n",
              "105778 -0.002677             0\n",
              "\n",
              "[105779 rows x 2 columns]"
            ]
          },
          "metadata": {
            "tags": []
          },
          "execution_count": 21
        }
      ]
    },
    {
      "cell_type": "code",
      "metadata": {
        "id": "ZFzAjW6JML-8",
        "colab_type": "code",
        "colab": {}
      },
      "source": [
        "from sklearn.linear_model import LogisticRegression"
      ],
      "execution_count": 0,
      "outputs": []
    },
    {
      "cell_type": "code",
      "metadata": {
        "id": "3TpAq76RMMCY",
        "colab_type": "code",
        "colab": {}
      },
      "source": [
        "from sklearn.model_selection import train_test_split\n",
        "X=pd.DataFrame(train_diff[0])\n",
        "y=train_diff['is_duplicate']\n",
        "train_x, test_x, train_y, test_y = train_test_split(X,\n",
        "y, train_size=0.8, random_state = 5)"
      ],
      "execution_count": 0,
      "outputs": []
    },
    {
      "cell_type": "code",
      "metadata": {
        "id": "-_nHdccQNELO",
        "colab_type": "code",
        "outputId": "583bd9ec-9f0f-4e9e-886b-86acdeaf897b",
        "colab": {
          "base_uri": "https://localhost:8080/",
          "height": 38
        }
      },
      "source": [
        "X.shape"
      ],
      "execution_count": 24,
      "outputs": [
        {
          "output_type": "execute_result",
          "data": {
            "text/plain": [
              "(105779, 1)"
            ]
          },
          "metadata": {
            "tags": []
          },
          "execution_count": 24
        }
      ]
    },
    {
      "cell_type": "code",
      "metadata": {
        "id": "Y_K7vAu_MjST",
        "colab_type": "code",
        "outputId": "7e322f75-6010-49df-d5b9-003f9cd90c94",
        "colab": {
          "base_uri": "https://localhost:8080/",
          "height": 122
        }
      },
      "source": [
        "lr=LogisticRegression()\n",
        "lr.fit(train_x,train_y)"
      ],
      "execution_count": 25,
      "outputs": [
        {
          "output_type": "execute_result",
          "data": {
            "text/plain": [
              "LogisticRegression(C=1.0, class_weight=None, dual=False, fit_intercept=True,\n",
              "                   intercept_scaling=1, l1_ratio=None, max_iter=100,\n",
              "                   multi_class='auto', n_jobs=None, penalty='l2',\n",
              "                   random_state=None, solver='lbfgs', tol=0.0001, verbose=0,\n",
              "                   warm_start=False)"
            ]
          },
          "metadata": {
            "tags": []
          },
          "execution_count": 25
        }
      ]
    },
    {
      "cell_type": "code",
      "metadata": {
        "id": "6IS7WedzMjVY",
        "colab_type": "code",
        "outputId": "800aab90-d6ad-49e1-fff9-f41769c7d47e",
        "colab": {
          "base_uri": "https://localhost:8080/",
          "height": 59
        }
      },
      "source": [
        "from sklearn.metrics import accuracy_score\n",
        "\n",
        "print(\"Multinomial Logistic regression Train Accuracy : \",accuracy_score(train_y, lr.predict(train_x)))\n",
        "print(\"Multinomial Logistic regression Test Accuracy : \", accuracy_score(test_y, lr.predict(test_x)))"
      ],
      "execution_count": 26,
      "outputs": [
        {
          "output_type": "stream",
          "text": [
            "Multinomial Logistic regression Train Accuracy :  0.6295924275906077\n",
            "Multinomial Logistic regression Test Accuracy :  0.6211476649650217\n"
          ],
          "name": "stdout"
        }
      ]
    },
    {
      "cell_type": "code",
      "metadata": {
        "id": "JJTbh1irNkO-",
        "colab_type": "code",
        "outputId": "676f4a53-0d62-48be-f6da-396e97c4a813",
        "colab": {
          "base_uri": "https://localhost:8080/",
          "height": 38
        }
      },
      "source": [
        "from sklearn.metrics import log_loss\n",
        "log_loss(test_y,lr.predict_proba(test_x)[:,1])"
      ],
      "execution_count": 27,
      "outputs": [
        {
          "output_type": "execute_result",
          "data": {
            "text/plain": [
              "0.6636519257953751"
            ]
          },
          "metadata": {
            "tags": []
          },
          "execution_count": 27
        }
      ]
    },
    {
      "cell_type": "code",
      "metadata": {
        "id": "R7H3YpMwxmas",
        "colab_type": "code",
        "outputId": "b61d9546-14d9-4247-face-01a5f67ea0c7",
        "colab": {
          "base_uri": "https://localhost:8080/",
          "height": 185
        }
      },
      "source": [
        "from sklearn.ensemble import RandomForestClassifier\n",
        "rf = RandomForestClassifier(max_leaf_nodes=50, n_estimators=50, min_samples_leaf=10)\n",
        "rf.fit(train_x, train_y)"
      ],
      "execution_count": 28,
      "outputs": [
        {
          "output_type": "execute_result",
          "data": {
            "text/plain": [
              "RandomForestClassifier(bootstrap=True, ccp_alpha=0.0, class_weight=None,\n",
              "                       criterion='gini', max_depth=None, max_features='auto',\n",
              "                       max_leaf_nodes=50, max_samples=None,\n",
              "                       min_impurity_decrease=0.0, min_impurity_split=None,\n",
              "                       min_samples_leaf=10, min_samples_split=2,\n",
              "                       min_weight_fraction_leaf=0.0, n_estimators=50,\n",
              "                       n_jobs=None, oob_score=False, random_state=None,\n",
              "                       verbose=0, warm_start=False)"
            ]
          },
          "metadata": {
            "tags": []
          },
          "execution_count": 28
        }
      ]
    },
    {
      "cell_type": "code",
      "metadata": {
        "id": "Cx-QP-DhxpK3",
        "colab_type": "code",
        "colab": {
          "base_uri": "https://localhost:8080/",
          "height": 38
        },
        "outputId": "136a6aea-2f40-4cbd-dcbb-da77aca63ee8"
      },
      "source": [
        "log_loss(test_y,rf.predict_proba(test_x)[:,1])"
      ],
      "execution_count": 29,
      "outputs": [
        {
          "output_type": "execute_result",
          "data": {
            "text/plain": [
              "0.6338080534936003"
            ]
          },
          "metadata": {
            "tags": []
          },
          "execution_count": 29
        }
      ]
    },
    {
      "cell_type": "code",
      "metadata": {
        "id": "Q37ZEeC-CiLv",
        "colab_type": "code",
        "colab": {}
      },
      "source": [
        "from sklearn.svm import SVC\n",
        "svc=SVC()\n",
        "svc.fit(train_x, train_y)\n",
        "print(\"SVM Train Accuracy : \",accuracy_score(train_y, svc.predict(train_x)))\n",
        "print(\"SVM Test Accuracy : \", accuracy_score(test_y, svc.predict(test_x)))"
      ],
      "execution_count": 0,
      "outputs": []
    },
    {
      "cell_type": "code",
      "metadata": {
        "id": "q8nnn_3vCzRW",
        "colab_type": "code",
        "colab": {}
      },
      "source": [
        ""
      ],
      "execution_count": 0,
      "outputs": []
    }
  ]
}